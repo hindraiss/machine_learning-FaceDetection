{
 "cells": [
  {
   "cell_type": "code",
   "execution_count": 2,
   "metadata": {
    "code_folding": [],
    "slideshow": {
     "slide_type": "skip"
    }
   },
   "outputs": [
    {
     "data": {
      "text/html": [
       "    \n",
       "<!-- reveal.js CSS theme and local overrides -->\n",
       "<link rel=\"stylesheet\" href=\"https://fonts.googleapis.com/css?family=Open+Sans:300,400,600,700&amp;lang=en\"/>\n",
       "<link rel=\"stylesheet\" href=\"https://fonts.googleapis.com/css?family=Merriweather:italic&amp;lang=en\"/>\n",
       "<link rel=\"stylesheet\" href=\"mycss.css\"/>  \n"
      ],
      "text/plain": [
       "<IPython.core.display.HTML object>"
      ]
     },
     "metadata": {},
     "output_type": "display_data"
    }
   ],
   "source": [
    "%%HTML\n",
    "    \n",
    "<!-- reveal.js CSS theme and local overrides -->\n",
    "<link rel=\"stylesheet\" href=\"https://fonts.googleapis.com/css?family=Open+Sans:300,400,600,700&amp;lang=en\"/>\n",
    "<link rel=\"stylesheet\" href=\"https://fonts.googleapis.com/css?family=Merriweather:italic&amp;lang=en\"/>\n",
    "<link rel=\"stylesheet\" href=\"mycss.css\"/>  \n"
   ]
  },
  {
   "cell_type": "markdown",
   "metadata": {
    "slideshow": {
     "slide_type": "skip"
    }
   },
   "source": [
    "\n",
    "\n"
   ]
  },
  {
   "cell_type": "code",
   "execution_count": 1,
   "metadata": {
    "slideshow": {
     "slide_type": "skip"
    }
   },
   "outputs": [],
   "source": [
    "import pandas as pd\n",
    "import os\n",
    "from datetime import date\n",
    "import markdown\n",
    "from IPython.display import HTML\n",
    "\n"
   ]
  },
  {
   "cell_type": "code",
   "execution_count": 2,
   "metadata": {
    "slideshow": {
     "slide_type": "skip"
    }
   },
   "outputs": [
    {
     "ename": "NameError",
     "evalue": "name 'email' is not defined",
     "output_type": "error",
     "traceback": [
      "\u001b[1;31m---------------------------------------------------------------------------\u001b[0m",
      "\u001b[1;31mNameError\u001b[0m                                 Traceback (most recent call last)",
      "Input \u001b[1;32mIn [2]\u001b[0m, in \u001b[0;36m<cell line: 2>\u001b[1;34m()\u001b[0m\n\u001b[0;32m      1\u001b[0m \u001b[38;5;66;03m# set HTMLs\u001b[39;00m\n\u001b[1;32m----> 2\u001b[0m email_html \u001b[38;5;241m=\u001b[39m HTML(\u001b[38;5;124mf\u001b[39m\u001b[38;5;124m\"\u001b[39m\u001b[38;5;124m<a href=\u001b[39m\u001b[38;5;124m'\u001b[39m\u001b[38;5;124mmailto:\u001b[39m\u001b[38;5;132;01m{\u001b[39;00memail\u001b[38;5;132;01m}\u001b[39;00m\u001b[38;5;124m'\u001b[39m\u001b[38;5;124m>\u001b[39m\u001b[38;5;132;01m{\u001b[39;00memail\u001b[38;5;132;01m}\u001b[39;00m\u001b[38;5;124m</a>\u001b[39m\u001b[38;5;124m\"\u001b[39m)\n\u001b[0;32m      3\u001b[0m twitter_html \u001b[38;5;241m=\u001b[39m HTML(\u001b[38;5;124mf\u001b[39m\u001b[38;5;124m\"\u001b[39m\u001b[38;5;124m<a href=\u001b[39m\u001b[38;5;124m'\u001b[39m\u001b[38;5;124mhttps://twitter.com/\u001b[39m\u001b[38;5;132;01m{\u001b[39;00mtwitter\u001b[38;5;241m.\u001b[39msplit(\u001b[38;5;124m'\u001b[39m\u001b[38;5;124m@\u001b[39m\u001b[38;5;124m'\u001b[39m)[\u001b[38;5;241m-\u001b[39m\u001b[38;5;241m1\u001b[39m]\u001b[38;5;132;01m}\u001b[39;00m\u001b[38;5;124m'\u001b[39m\u001b[38;5;124m>\u001b[39m\u001b[38;5;132;01m{\u001b[39;00mtwitter\u001b[38;5;132;01m}\u001b[39;00m\u001b[38;5;124m</a>\u001b[39m\u001b[38;5;124m\"\u001b[39m)\n\u001b[0;32m      4\u001b[0m url_html \u001b[38;5;241m=\u001b[39m HTML(\u001b[38;5;124mf\u001b[39m\u001b[38;5;124m\"\u001b[39m\u001b[38;5;124m<a href=\u001b[39m\u001b[38;5;124m'\u001b[39m\u001b[38;5;132;01m{\u001b[39;00murl\u001b[38;5;132;01m}\u001b[39;00m\u001b[38;5;124m'\u001b[39m\u001b[38;5;124m>\u001b[39m\u001b[38;5;132;01m{\u001b[39;00murl\u001b[38;5;132;01m}\u001b[39;00m\u001b[38;5;124m</a>\u001b[39m\u001b[38;5;124m\"\u001b[39m)\n",
      "\u001b[1;31mNameError\u001b[0m: name 'email' is not defined"
     ]
    }
   ],
   "source": [
    "# set HTMLs\n",
    "email_html = HTML(f\"<a href='mailto:{email}'>{email}</a>\")\n",
    "twitter_html = HTML(f\"<a href='https://twitter.com/{twitter.split('@')[-1]}'>{twitter}</a>\")\n",
    "url_html = HTML(f\"<a href='{url}'>{url}</a>\")\n",
    "footer_html = HTML(f\"<div class='footer'>{event} | {title} | {today}</div>\")\n",
    "\n",
    "# This line will add a button to toggle visibility of code blocks,\n",
    "# for use with the HTML export version\n",
    "toggle = HTML('''<button style=\"margin:0 auto; display: block;\" onclick=\"jQuery('.code_cell .input_area').toggle();\n",
    "    jQuery('.prompt').toggle();\">Toggle code</button>''')\n",
    "toggle"
   ]
  },
  {
   "cell_type": "markdown",
   "metadata": {
    "slideshow": {
     "slide_type": "slide"
    },
    "variables": {
     "name": "Your Name MSc.",
     "subtitle": "Subtitle goes here",
     "title": "Title goes here"
    }
   },
   "source": [
    "<section id=\"title-slide\">\n",
    "<table class=\"kms\" border=\"0\"  width=\"100%\"  style=\"width:100%;text-align:center;\">\n",
    "  <tr>\n",
    "    <td width=\"50%\" align=\"center\" ><p class=\"fragment fade-down\" data-fragment-index=\"3\"><img src=\"./img/logo.png\" width=\"350\" height=\"350\" style=\"border-radius: 10px\"></p></td>\n",
    "    <td width=\"50%\" align=\"center\"><p class=\"fragment fade-down\" data-fragment-index=\"3\"><img src=\"./img/l.png\" width=\"350\" height=\"350\" style=\"border-radius: 10px\"></p></td>\n",
    "  </tr>\n",
    "</table>\n",
    "    <br><h1><i><p class=\"fragment\" data-fragment-index=\"1\">Face detection </p></i></h1>\n",
    "    <h4><i><p class=\"fragment\" data-fragment-index=\"1\">IT engineer</p></i></h4>\n",
    "    <br><br>\n",
    "    <div class=\"uu_title_container\">\n",
    "        <smaller>\n",
    "        <div class='column'><p class=\"fragment\" data-fragment-index=\"2\">\n",
    "            <b>Presented by:</b><br>Hind Raissi <br>Ghada hleli\n",
    "            </p></div>  \n",
    "        <div class='column'><p class=\"fragment\" data-fragment-index=\"2\">\n",
    "            <b>Academic guidance: </b> <br>Olfa besbes\n",
    "            </p></div>    \n",
    "       </smaller>\n",
    "    </div>\n",
    "</section>"
   ]
  },
  {
   "cell_type": "markdown",
   "metadata": {
    "slideshow": {
     "slide_type": "slide"
    },
    "variables": {
     "footer_html": "<div class='footer'>Name of Event | Title goes here | 26-02-2021</div>"
    }
   },
   "source": [
    "<h1 ><p class=\"fragment fade-up\"><span class=\"presentation_title\">Content</span></p></h1>\n",
    "\n",
    "<h3 ><p class=\"fragment fade-up\"><span class=\"bkg_contrastR\">1 Introduction</span></p></h3>\n",
    "\n",
    "<h3 ><p class=\"fragment fade-up\"><span class=\"bkg_contrastR\">2 Feature engineering</span></p></h3>\n",
    "<h3 ><p class=\"fragment fade-up\"><span class=\"bkg_contrastR\">3  Binary Classification using Scikit-learn</span></p></h3>\n",
    "<h3 ><p class=\"fragment fade-up\"><span class=\"bkg_contrastR\">4 Evaluating the best face detector </span></p></h3>\n",
    "<h3 ><p class=\"fragment fade-up\"><span class=\"bkg_contrastR\">5 Finding faces in new images</span></p></h3>\n",
    "<h3 ><p class=\"fragment fade-up\"><span class=\"bkg_contrastR\">6 Deployement</span></p></h3>\n",
    "\n",
    "<h3 ><p class=\"fragment fade-up\"><span class=\"bkg_contrastR\"> Conclusion</span></p></h3>\n",
    "\n",
    "\n"
   ]
  },
  {
   "cell_type": "markdown",
   "metadata": {
    "slideshow": {
     "slide_type": "slide"
    }
   },
   "source": [
    "\n",
    "<h1 ><p class=\"fragment fade-up\" data-fragment-index=\"1\"><span class=\"presentation_title\"> Introduction</span></p></h1>\n",
    "<h2 ><p class=\"fragment fade-up\" data-fragment-index=\"2\"><span class=\"bkg_contrastB\">About face detection and machine learning</span></p></h2>\n",
    "<div style=\"display: flex; justify-content: space-around;\"class=\"center\">\n",
    "<p class=\"fragment fade-up\" data-fragment-index=\"4\" align=\"center\" ><img src=\"./img/de.webp\" width=\"350\" height=\"350\" style=\"border-radius: 10px\"></p> &nbsp;  &nbsp; &nbsp;&nbsp;<p class=\"fragment fade-up\" data-fragment-index=\"4\" align=\"center\" ><img src=\"./img/1.jpeg\" width=\"800\" height=\"600\" style=\"border-radius: 10px\"></p>\n",
    "    </div>\n",
    "<div>\n",
    " <p class=\"fragment fade-up\" data-fragment-index=\"3\" align=\"center\" >What is face detection ?<span class=\"fragment fade-up\" data-fragment-index=\"4\">\n",
    "Face detection is a computer technology being used in a variety of applications that identifies human faces in digital images</span></p> <p class=\"fragment fade-up\" data-fragment-index=\"5\" align=\"center\" >Face Detection is the first and essential step for face recognition, and it is used to detect faces in the images. It is a part of object detection and can use in many areas such as security, bio-metrics, law enforcement, entertainment, personal safety, etc.\n",
    "It is used to detect faces in real time for surveillance and tracking of person or objects. It is widely used in cameras to identify multiple appearances in the frame Ex- Mobile cameras and DSLR’s. Facebook is also using face detection algorithm to detect faces in the images and recognise them</p> <br>  \n",
    "<span class=\"fragment fade-up\" data-fragment-index=\"12\"><span class=\"bkg_contrastR\">How?</span></span>\n",
    "\n",
    "</div>"
   ]
  },
  {
   "cell_type": "markdown",
   "metadata": {
    "slideshow": {
     "slide_type": "slide"
    }
   },
   "source": [
    "<h2 ><p class=\"fragment fade-up\" data-fragment-index=\"1\"><span class=\"presentation_title\">1.Feature engineering</span></p></h2>\n",
    "<div>\n",
    " <p class=\"fragment fade-up\" data-fragment-index=\"2\" align=\"center\" >Feature engineering is the process of selecting, manipulating, and transforming raw data into features that can be used in supervised learning. In order to make machine learning work well on new tasks, it might be necessary to design and train better features. As you may know, a “feature” is any measurable input that can be used in a predictive model — it could be the color of an object or the sound of someone’s voice. Feature engineering, in simple terms, is the act of converting raw observations into desired features using statistical or machine learning approaches. \n",
    "</p>\n",
    "\n",
    "</div>"
   ]
  },
  {
   "cell_type": "code",
   "execution_count": 37,
   "metadata": {
    "slideshow": {
     "slide_type": "subslide"
    }
   },
   "outputs": [],
   "source": [
    "#objectives:\n",
    "##Object detection is the task of detecting multiple objects in an image that comprehenses both object localization and object classification."
   ]
  },
  {
   "cell_type": "code",
   "execution_count": 3,
   "metadata": {
    "slideshow": {
     "slide_type": "skip"
    }
   },
   "outputs": [],
   "source": [
    "#import libraries\n",
    "from sklearn.datasets import fetch_lfw_people"
   ]
  },
  {
   "cell_type": "code",
   "execution_count": 4,
   "metadata": {
    "slideshow": {
     "slide_type": "subslide"
    }
   },
   "outputs": [],
   "source": [
    "faces = fetch_lfw_people()\n",
    "positive_patches = faces.images"
   ]
  },
  {
   "cell_type": "code",
   "execution_count": 5,
   "metadata": {
    "slideshow": {
     "slide_type": "skip"
    }
   },
   "outputs": [
    {
     "data": {
      "text/plain": [
       "(13233, 62, 47)"
      ]
     },
     "execution_count": 5,
     "metadata": {},
     "output_type": "execute_result"
    }
   ],
   "source": [
    "positive_patches.shape"
   ]
  },
  {
   "cell_type": "code",
   "execution_count": 6,
   "metadata": {
    "slideshow": {
     "slide_type": "subslide"
    }
   },
   "outputs": [
    {
     "data": {
      "image/png": "[encoded data removed]",
      "text/plain": [
       "<Figure size 432x288 with 16 Axes>"
      ]
     },
     "metadata": {
      "needs_background": "light"
     },
     "output_type": "display_data"
    }
   ],
   "source": [
    "import matplotlib.pyplot as plt\n",
    "for i in range(16):\n",
    "  plt.subplot(4,4,i+1)\n",
    "  plt.imshow(positive_patches[i,:,:] , cmap='gray')"
   ]
  },
  {
   "cell_type": "code",
   "execution_count": null,
   "metadata": {
    "slideshow": {
     "slide_type": "subslide"
    }
   },
   "outputs": [],
   "source": [
    "#To obtain a set of negative samples, we take any corpus of input images from Scikit-Image, and extract patches from them at a variety of scales as follows:\n",
    "\n",
    "from skimage import color, feature\n",
    "import skimage.data\n",
    "sample= positive_patches[4]\n",
    "\n",
    "img = color.rgb2gray(sample)\n",
    "hog_vec, hog_vis = feature.hog(img, visualize=True)\n",
    "plt.subplot(1,2,1) ,plt.imshow(sample,cmap='gray')\n",
    "plt.subplot(1,2,2) ,plt.imshow(hog_vis,cmap='gray')"
   ]
  },
  {
   "cell_type": "code",
   "execution_count": 8,
   "metadata": {
    "slideshow": {
     "slide_type": "subslide"
    }
   },
   "outputs": [
    {
     "ename": "ValueError",
     "evalue": "the input array must have size 3 along `channel_axis`, got (512, 512)",
     "output_type": "error",
     "traceback": [
      "\u001b[1;31m---------------------------------------------------------------------------\u001b[0m",
      "\u001b[1;31mValueError\u001b[0m                                Traceback (most recent call last)",
      "Input \u001b[1;32mIn [8]\u001b[0m, in \u001b[0;36m<cell line: 5>\u001b[1;34m()\u001b[0m\n\u001b[0;32m      3\u001b[0m \u001b[38;5;28;01mfrom\u001b[39;00m \u001b[38;5;21;01msklearn\u001b[39;00m\u001b[38;5;21;01m.\u001b[39;00m\u001b[38;5;21;01mfeature_extraction\u001b[39;00m\u001b[38;5;21;01m.\u001b[39;00m\u001b[38;5;21;01mimage\u001b[39;00m \u001b[38;5;28;01mimport\u001b[39;00m PatchExtractor\n\u001b[0;32m      4\u001b[0m imgs_to_use \u001b[38;5;241m=\u001b[39m [\u001b[38;5;124m'\u001b[39m\u001b[38;5;124mcamera\u001b[39m\u001b[38;5;124m'\u001b[39m, \u001b[38;5;124m'\u001b[39m\u001b[38;5;124mtext\u001b[39m\u001b[38;5;124m'\u001b[39m, \u001b[38;5;124m'\u001b[39m\u001b[38;5;124mcoins\u001b[39m\u001b[38;5;124m'\u001b[39m, \u001b[38;5;124m'\u001b[39m\u001b[38;5;124mmoon\u001b[39m\u001b[38;5;124m'\u001b[39m, \u001b[38;5;124m'\u001b[39m\u001b[38;5;124mpage\u001b[39m\u001b[38;5;124m'\u001b[39m, \u001b[38;5;124m'\u001b[39m\u001b[38;5;124mclock\u001b[39m\u001b[38;5;124m'\u001b[39m, \u001b[38;5;124m'\u001b[39m\u001b[38;5;124mimmunohistochemistry\u001b[39m\u001b[38;5;124m'\u001b[39m, \u001b[38;5;124m'\u001b[39m\u001b[38;5;124mchelsea\u001b[39m\u001b[38;5;124m'\u001b[39m, \u001b[38;5;124m'\u001b[39m\u001b[38;5;124mcoffee\u001b[39m\u001b[38;5;124m'\u001b[39m, \u001b[38;5;124m'\u001b[39m\u001b[38;5;124mhubble_deep_field\u001b[39m\u001b[38;5;124m'\u001b[39m]\n\u001b[1;32m----> 5\u001b[0m images \u001b[38;5;241m=\u001b[39m [color\u001b[38;5;241m.\u001b[39mrgb2gray(\u001b[38;5;28mgetattr\u001b[39m(data, name)()) \u001b[38;5;28;01mfor\u001b[39;00m name \u001b[38;5;129;01min\u001b[39;00m imgs_to_use]\n\u001b[0;32m      6\u001b[0m \u001b[38;5;28;01mdef\u001b[39;00m \u001b[38;5;21mextract_patches\u001b[39m(img, N, scale\u001b[38;5;241m=\u001b[39m\u001b[38;5;241m1.0\u001b[39m, patch_size\u001b[38;5;241m=\u001b[39mpositive_patches[\u001b[38;5;241m0\u001b[39m]\u001b[38;5;241m.\u001b[39mshape):\n\u001b[0;32m      8\u001b[0m     extracted_patch_size \u001b[38;5;241m=\u001b[39m \u001b[38;5;28mtuple\u001b[39m((scale \u001b[38;5;241m*\u001b[39m np\u001b[38;5;241m.\u001b[39marray(patch_size))\u001b[38;5;241m.\u001b[39mastype(\u001b[38;5;28mint\u001b[39m))\n",
      "Input \u001b[1;32mIn [8]\u001b[0m, in \u001b[0;36m<listcomp>\u001b[1;34m(.0)\u001b[0m\n\u001b[0;32m      3\u001b[0m \u001b[38;5;28;01mfrom\u001b[39;00m \u001b[38;5;21;01msklearn\u001b[39;00m\u001b[38;5;21;01m.\u001b[39;00m\u001b[38;5;21;01mfeature_extraction\u001b[39;00m\u001b[38;5;21;01m.\u001b[39;00m\u001b[38;5;21;01mimage\u001b[39;00m \u001b[38;5;28;01mimport\u001b[39;00m PatchExtractor\n\u001b[0;32m      4\u001b[0m imgs_to_use \u001b[38;5;241m=\u001b[39m [\u001b[38;5;124m'\u001b[39m\u001b[38;5;124mcamera\u001b[39m\u001b[38;5;124m'\u001b[39m, \u001b[38;5;124m'\u001b[39m\u001b[38;5;124mtext\u001b[39m\u001b[38;5;124m'\u001b[39m, \u001b[38;5;124m'\u001b[39m\u001b[38;5;124mcoins\u001b[39m\u001b[38;5;124m'\u001b[39m, \u001b[38;5;124m'\u001b[39m\u001b[38;5;124mmoon\u001b[39m\u001b[38;5;124m'\u001b[39m, \u001b[38;5;124m'\u001b[39m\u001b[38;5;124mpage\u001b[39m\u001b[38;5;124m'\u001b[39m, \u001b[38;5;124m'\u001b[39m\u001b[38;5;124mclock\u001b[39m\u001b[38;5;124m'\u001b[39m, \u001b[38;5;124m'\u001b[39m\u001b[38;5;124mimmunohistochemistry\u001b[39m\u001b[38;5;124m'\u001b[39m, \u001b[38;5;124m'\u001b[39m\u001b[38;5;124mchelsea\u001b[39m\u001b[38;5;124m'\u001b[39m, \u001b[38;5;124m'\u001b[39m\u001b[38;5;124mcoffee\u001b[39m\u001b[38;5;124m'\u001b[39m, \u001b[38;5;124m'\u001b[39m\u001b[38;5;124mhubble_deep_field\u001b[39m\u001b[38;5;124m'\u001b[39m]\n\u001b[1;32m----> 5\u001b[0m images \u001b[38;5;241m=\u001b[39m [\u001b[43mcolor\u001b[49m\u001b[38;5;241;43m.\u001b[39;49m\u001b[43mrgb2gray\u001b[49m\u001b[43m(\u001b[49m\u001b[38;5;28;43mgetattr\u001b[39;49m\u001b[43m(\u001b[49m\u001b[43mdata\u001b[49m\u001b[43m,\u001b[49m\u001b[43m \u001b[49m\u001b[43mname\u001b[49m\u001b[43m)\u001b[49m\u001b[43m(\u001b[49m\u001b[43m)\u001b[49m\u001b[43m)\u001b[49m \u001b[38;5;28;01mfor\u001b[39;00m name \u001b[38;5;129;01min\u001b[39;00m imgs_to_use]\n\u001b[0;32m      6\u001b[0m \u001b[38;5;28;01mdef\u001b[39;00m \u001b[38;5;21mextract_patches\u001b[39m(img, N, scale\u001b[38;5;241m=\u001b[39m\u001b[38;5;241m1.0\u001b[39m, patch_size\u001b[38;5;241m=\u001b[39mpositive_patches[\u001b[38;5;241m0\u001b[39m]\u001b[38;5;241m.\u001b[39mshape):\n\u001b[0;32m      8\u001b[0m     extracted_patch_size \u001b[38;5;241m=\u001b[39m \u001b[38;5;28mtuple\u001b[39m((scale \u001b[38;5;241m*\u001b[39m np\u001b[38;5;241m.\u001b[39marray(patch_size))\u001b[38;5;241m.\u001b[39mastype(\u001b[38;5;28mint\u001b[39m))\n",
      "File \u001b[1;32m~\\anaconda3\\lib\\site-packages\\skimage\\_shared\\utils.py:394\u001b[0m, in \u001b[0;36mchannel_as_last_axis.__call__.<locals>.fixed_func\u001b[1;34m(*args, **kwargs)\u001b[0m\n\u001b[0;32m    391\u001b[0m channel_axis \u001b[38;5;241m=\u001b[39m kwargs\u001b[38;5;241m.\u001b[39mget(\u001b[38;5;124m'\u001b[39m\u001b[38;5;124mchannel_axis\u001b[39m\u001b[38;5;124m'\u001b[39m, \u001b[38;5;28;01mNone\u001b[39;00m)\n\u001b[0;32m    393\u001b[0m \u001b[38;5;28;01mif\u001b[39;00m channel_axis \u001b[38;5;129;01mis\u001b[39;00m \u001b[38;5;28;01mNone\u001b[39;00m:\n\u001b[1;32m--> 394\u001b[0m     \u001b[38;5;28;01mreturn\u001b[39;00m func(\u001b[38;5;241m*\u001b[39margs, \u001b[38;5;241m*\u001b[39m\u001b[38;5;241m*\u001b[39mkwargs)\n\u001b[0;32m    396\u001b[0m \u001b[38;5;66;03m# TODO: convert scalars to a tuple in anticipation of eventually\u001b[39;00m\n\u001b[0;32m    397\u001b[0m \u001b[38;5;66;03m#       supporting a tuple of channel axes. Right now, only an\u001b[39;00m\n\u001b[0;32m    398\u001b[0m \u001b[38;5;66;03m#       integer or a single-element tuple is supported, though.\u001b[39;00m\n\u001b[0;32m    399\u001b[0m \u001b[38;5;28;01mif\u001b[39;00m np\u001b[38;5;241m.\u001b[39misscalar(channel_axis):\n",
      "File \u001b[1;32m~\\anaconda3\\lib\\site-packages\\skimage\\color\\colorconv.py:875\u001b[0m, in \u001b[0;36mrgb2gray\u001b[1;34m(rgb, channel_axis)\u001b[0m\n\u001b[0;32m    834\u001b[0m \u001b[38;5;129m@channel_as_last_axis\u001b[39m(multichannel_output\u001b[38;5;241m=\u001b[39m\u001b[38;5;28;01mFalse\u001b[39;00m)\n\u001b[0;32m    835\u001b[0m \u001b[38;5;28;01mdef\u001b[39;00m \u001b[38;5;21mrgb2gray\u001b[39m(rgb, \u001b[38;5;241m*\u001b[39m, channel_axis\u001b[38;5;241m=\u001b[39m\u001b[38;5;241m-\u001b[39m\u001b[38;5;241m1\u001b[39m):\n\u001b[0;32m    836\u001b[0m     \u001b[38;5;124;03m\"\"\"Compute luminance of an RGB image.\u001b[39;00m\n\u001b[0;32m    837\u001b[0m \n\u001b[0;32m    838\u001b[0m \u001b[38;5;124;03m    Parameters\u001b[39;00m\n\u001b[1;32m   (...)\u001b[0m\n\u001b[0;32m    873\u001b[0m \u001b[38;5;124;03m    >>> img_gray = rgb2gray(img)\u001b[39;00m\n\u001b[0;32m    874\u001b[0m \u001b[38;5;124;03m    \"\"\"\u001b[39;00m\n\u001b[1;32m--> 875\u001b[0m     rgb \u001b[38;5;241m=\u001b[39m \u001b[43m_prepare_colorarray\u001b[49m\u001b[43m(\u001b[49m\u001b[43mrgb\u001b[49m\u001b[43m)\u001b[49m\n\u001b[0;32m    876\u001b[0m     coeffs \u001b[38;5;241m=\u001b[39m np\u001b[38;5;241m.\u001b[39marray([\u001b[38;5;241m0.2125\u001b[39m, \u001b[38;5;241m0.7154\u001b[39m, \u001b[38;5;241m0.0721\u001b[39m], dtype\u001b[38;5;241m=\u001b[39mrgb\u001b[38;5;241m.\u001b[39mdtype)\n\u001b[0;32m    877\u001b[0m     \u001b[38;5;28;01mreturn\u001b[39;00m rgb \u001b[38;5;241m@\u001b[39m coeffs\n",
      "File \u001b[1;32m~\\anaconda3\\lib\\site-packages\\skimage\\color\\colorconv.py:140\u001b[0m, in \u001b[0;36m_prepare_colorarray\u001b[1;34m(arr, force_copy, channel_axis)\u001b[0m\n\u001b[0;32m    137\u001b[0m \u001b[38;5;28;01mif\u001b[39;00m arr\u001b[38;5;241m.\u001b[39mshape[channel_axis] \u001b[38;5;241m!=\u001b[39m \u001b[38;5;241m3\u001b[39m:\n\u001b[0;32m    138\u001b[0m     msg \u001b[38;5;241m=\u001b[39m (\u001b[38;5;124mf\u001b[39m\u001b[38;5;124m'\u001b[39m\u001b[38;5;124mthe input array must have size 3 along `channel_axis`, \u001b[39m\u001b[38;5;124m'\u001b[39m\n\u001b[0;32m    139\u001b[0m            \u001b[38;5;124mf\u001b[39m\u001b[38;5;124m'\u001b[39m\u001b[38;5;124mgot \u001b[39m\u001b[38;5;132;01m{\u001b[39;00marr\u001b[38;5;241m.\u001b[39mshape\u001b[38;5;132;01m}\u001b[39;00m\u001b[38;5;124m'\u001b[39m)\n\u001b[1;32m--> 140\u001b[0m     \u001b[38;5;28;01mraise\u001b[39;00m \u001b[38;5;167;01mValueError\u001b[39;00m(msg)\n\u001b[0;32m    142\u001b[0m float_dtype \u001b[38;5;241m=\u001b[39m _supported_float_type(arr\u001b[38;5;241m.\u001b[39mdtype)\n\u001b[0;32m    143\u001b[0m \u001b[38;5;28;01mif\u001b[39;00m float_dtype \u001b[38;5;241m==\u001b[39m np\u001b[38;5;241m.\u001b[39mfloat32:\n",
      "\u001b[1;31mValueError\u001b[0m: the input array must have size 3 along `channel_axis`, got (512, 512)"
     ]
    }
   ],
   "source": [
    "from skimage import data, transform\n",
    "import numpy as np\n",
    "from sklearn.feature_extraction.image import PatchExtractor\n",
    "imgs_to_use = ['camera', 'text', 'coins', 'moon', 'page', 'clock', 'immunohistochemistry', 'chelsea', 'coffee', 'hubble_deep_field']\n",
    "images = [color.rgb2gray(getattr(data, name)()) for name in imgs_to_use]\n",
    "def extract_patches(img, N, scale=1.0, patch_size=positive_patches[0].shape):\n",
    "\n",
    "    extracted_patch_size = tuple((scale * np.array(patch_size)).astype(int))\n",
    "    extractor = PatchExtractor(patch_size=extracted_patch_size,\n",
    "    max_patches=N, random_state=0)\n",
    "    patches = extractor.transform(img[np.newaxis])\n",
    "    if scale != 1:\n",
    "      patches = np.array([transform.resize(patch, patch_size)\n",
    "    for patch in patches])\n",
    "    return patches\n",
    "negative_patches = np.vstack([extract_patches(im, 1000, scale)\n",
    "      for im in images for scale in [0.5, 1.0, 2.0]])"
   ]
  },
  {
   "cell_type": "code",
   "execution_count": 9,
   "metadata": {
    "slideshow": {
     "slide_type": "skip"
    }
   },
   "outputs": [
    {
     "ename": "NameError",
     "evalue": "name 'negative_patches' is not defined",
     "output_type": "error",
     "traceback": [
      "\u001b[1;31m---------------------------------------------------------------------------\u001b[0m",
      "\u001b[1;31mNameError\u001b[0m                                 Traceback (most recent call last)",
      "Input \u001b[1;32mIn [9]\u001b[0m, in \u001b[0;36m<cell line: 2>\u001b[1;34m()\u001b[0m\n\u001b[0;32m      2\u001b[0m \u001b[38;5;28;01mfor\u001b[39;00m i \u001b[38;5;129;01min\u001b[39;00m \u001b[38;5;28mrange\u001b[39m(\u001b[38;5;241m16\u001b[39m):\n\u001b[0;32m      3\u001b[0m     plt\u001b[38;5;241m.\u001b[39msubplot(\u001b[38;5;241m4\u001b[39m,\u001b[38;5;241m4\u001b[39m,i\u001b[38;5;241m+\u001b[39m\u001b[38;5;241m1\u001b[39m)\n\u001b[1;32m----> 4\u001b[0m     plt\u001b[38;5;241m.\u001b[39mimshow(\u001b[43mnegative_patches\u001b[49m[i,:,:], cmap\u001b[38;5;241m=\u001b[39m\u001b[38;5;124m'\u001b[39m\u001b[38;5;124mgray\u001b[39m\u001b[38;5;124m'\u001b[39m)\n",
      "\u001b[1;31mNameError\u001b[0m: name 'negative_patches' is not defined"
     ]
    },
    {
     "data": {
      "image/png": "[encoded data removed]",
      "text/plain": [
       "<Figure size 432x288 with 1 Axes>"
      ]
     },
     "metadata": {
      "needs_background": "light"
     },
     "output_type": "display_data"
    }
   ],
   "source": [
    "import matplotlib.pyplot as plt\n",
    "for i in range(16):\n",
    "    plt.subplot(4,4,i+1)\n",
    "    plt.imshow(negative_patches[i,:,:], cmap='gray')"
   ]
  },
  {
   "cell_type": "code",
   "execution_count": null,
   "metadata": {
    "slideshow": {
     "slide_type": "subslide"
    }
   },
   "outputs": [],
   "source": [
    "#dataset equilibree\n",
    "n  = min(positive_patches.shape[0],negative_patches.shape[0])\n",
    "dim=hog_vec.shape[0]\n",
    "Y=np.concatenate((np.ones((n,1)), np.zeros((n,1))), axis=0)\n",
    "X=np.zeros((2*n,dim)) \n",
    "for i in range (n) : \n",
    "  img=positive_patches[i,:,:]\n",
    "  img_gray=color.rgb2gray(img)\n",
    "  hog_vec=feature.hog(img_gray)\n",
    "  X[i,:]=hog_vec.reshape(1,dim)\n",
    "for i in range(n):\n",
    "  img=negative_patches[i,:,:]\n",
    "  img_gray=color.rgb2gray(img)\n",
    "  hog_vec=feature.hog(img_gray)\n",
    "  X[i+n,:]=hog_vec.reshape(1,dim)"
   ]
  },
  {
   "cell_type": "code",
   "execution_count": null,
   "metadata": {
    "slideshow": {
     "slide_type": "subslide"
    }
   },
   "outputs": [],
   "source": [
    "dict = {'data':X , 'labels':Y}\n",
    "print(dict)"
   ]
  },
  {
   "cell_type": "code",
   "execution_count": 10,
   "metadata": {
    "slideshow": {
     "slide_type": "skip"
    }
   },
   "outputs": [
    {
     "ename": "NameError",
     "evalue": "name 'X' is not defined",
     "output_type": "error",
     "traceback": [
      "\u001b[1;31m---------------------------------------------------------------------------\u001b[0m",
      "\u001b[1;31mNameError\u001b[0m                                 Traceback (most recent call last)",
      "Input \u001b[1;32mIn [10]\u001b[0m, in \u001b[0;36m<cell line: 3>\u001b[1;34m()\u001b[0m\n\u001b[0;32m      1\u001b[0m \u001b[38;5;28;01mimport\u001b[39;00m \u001b[38;5;21;01mnumpy\u001b[39;00m \u001b[38;5;28;01mas\u001b[39;00m \u001b[38;5;21;01mnp\u001b[39;00m\n\u001b[0;32m      2\u001b[0m file \u001b[38;5;241m=\u001b[39m \u001b[38;5;28mopen\u001b[39m(\u001b[38;5;124m\"\u001b[39m\u001b[38;5;124mface_data.npy\u001b[39m\u001b[38;5;124m\"\u001b[39m,\u001b[38;5;124m\"\u001b[39m\u001b[38;5;124mwb\u001b[39m\u001b[38;5;124m\"\u001b[39m)\n\u001b[1;32m----> 3\u001b[0m np\u001b[38;5;241m.\u001b[39msave(file,\u001b[43mX\u001b[49m)\n\u001b[0;32m      4\u001b[0m file\u001b[38;5;241m.\u001b[39mclose\n\u001b[0;32m      6\u001b[0m file\u001b[38;5;241m=\u001b[39m \u001b[38;5;28mopen\u001b[39m(\u001b[38;5;124m\"\u001b[39m\u001b[38;5;124mface_labels.npy\u001b[39m\u001b[38;5;124m\"\u001b[39m,\u001b[38;5;124m\"\u001b[39m\u001b[38;5;124mwb\u001b[39m\u001b[38;5;124m\"\u001b[39m)\n",
      "\u001b[1;31mNameError\u001b[0m: name 'X' is not defined"
     ]
    }
   ],
   "source": [
    "import numpy as np\n",
    "file = open(\"face_data.npy\",\"wb\")\n",
    "np.save(file,X)\n",
    "file.close\n",
    "\n",
    "file= open(\"face_labels.npy\",\"wb\")\n",
    "np.save(file,Y)\n",
    "file.close"
   ]
  },
  {
   "cell_type": "markdown",
   "metadata": {
    "slideshow": {
     "slide_type": "slide"
    }
   },
   "source": [
    "<h2 ><p class=\"fragment fade-up\" data-fragment-index=\"1\"><span class=\"presentation_title\">3. Binary classification using sikit_learn</span></p></h2>\n",
    "<div>\n",
    " <p class=\"fragment fade-up\" data-fragment-index=\"2\" align=\"center\" >the main focus will be on using a variety of classification algorithms across both of these domains, less emphasis will be placed on the theory behind them.\n",
    "\n",
    "We can use libraries in Python such as scikit-learn for machine learning models, and Pandas to import data as data frames.\n",
    "</p>\n",
    "</div>\n",
    "<div style=\"display: flex; justify-content: space-around;\"class=\"center\">\n",
    "<p class=\"fragment fade-up\" data-fragment-index=\"4\" align=\"center\" ><img src=\"./img/mult.png\" width=\"350\" height=\"350\" style=\"border-radius: 10px\"></p> &nbsp;  &nbsp; &nbsp;&nbsp;<p class=\"fragment fade-up\" data-fragment-index=\"4\" align=\"center\" ></p>\n",
    "    </div>\n",
    "<div>\n"
   ]
  },
  {
   "cell_type": "code",
   "execution_count": 11,
   "metadata": {
    "slideshow": {
     "slide_type": "subslide"
    }
   },
   "outputs": [
    {
     "ename": "NameError",
     "evalue": "name 'X' is not defined",
     "output_type": "error",
     "traceback": [
      "\u001b[1;31m---------------------------------------------------------------------------\u001b[0m",
      "\u001b[1;31mNameError\u001b[0m                                 Traceback (most recent call last)",
      "Input \u001b[1;32mIn [11]\u001b[0m, in \u001b[0;36m<cell line: 3>\u001b[1;34m()\u001b[0m\n\u001b[0;32m      1\u001b[0m \u001b[38;5;66;03m# Split the data into training and test sets\u001b[39;00m\n\u001b[0;32m      2\u001b[0m \u001b[38;5;28;01mfrom\u001b[39;00m \u001b[38;5;21;01msklearn\u001b[39;00m\u001b[38;5;21;01m.\u001b[39;00m\u001b[38;5;21;01mmodel_selection\u001b[39;00m \u001b[38;5;28;01mimport\u001b[39;00m train_test_split\n\u001b[1;32m----> 3\u001b[0m X_train, X_test, Y_train, Y_test \u001b[38;5;241m=\u001b[39m train_test_split(\u001b[43mX\u001b[49m, Y, test_size\u001b[38;5;241m=\u001b[39m\u001b[38;5;241m0.2\u001b[39m, random_state\u001b[38;5;241m=\u001b[39m\u001b[38;5;241m0\u001b[39m)\n\u001b[0;32m      4\u001b[0m \u001b[38;5;66;03m# View the shape of the data\u001b[39;00m\n\u001b[0;32m      5\u001b[0m X_train\u001b[38;5;241m.\u001b[39mshape, X_test\u001b[38;5;241m.\u001b[39mshape, Y_train\u001b[38;5;241m.\u001b[39mshape, Y_test\u001b[38;5;241m.\u001b[39mshape\n",
      "\u001b[1;31mNameError\u001b[0m: name 'X' is not defined"
     ]
    }
   ],
   "source": [
    "# Split the data into training and test sets\n",
    "from sklearn.model_selection import train_test_split\n",
    "X_train, X_test, Y_train, Y_test = train_test_split(X, Y, test_size=0.2, random_state=0)\n",
    "# View the shape of the data\n",
    "X_train.shape, X_test.shape, Y_train.shape, Y_test.shape"
   ]
  },
  {
   "cell_type": "code",
   "execution_count": 12,
   "metadata": {
    "slideshow": {
     "slide_type": "subslide"
    }
   },
   "outputs": [],
   "source": [
    "#Then, we build different binary classifiers with the best estimator for each one:\n",
    "\n",
    "from sklearn.ensemble import RandomForestClassifier\n",
    "from sklearn import svm\n",
    "from sklearn.tree import DecisionTreeClassifier\n",
    "from sklearn.neighbors import KNeighborsClassifier\n",
    "from sklearn.metrics import accuracy_score\n",
    "from sklearn.model_selection import GridSearchCV"
   ]
  },
  {
   "cell_type": "code",
   "execution_count": 9,
   "metadata": {
    "slideshow": {
     "slide_type": "subslide"
    }
   },
   "outputs": [
    {
     "data": {
      "text/plain": [
       "Index(['text', 'spam'], dtype='object')"
      ]
     },
     "execution_count": 9,
     "metadata": {},
     "output_type": "execute_result"
    }
   ],
   "source": [
    "models = [\n",
    "{ \"estimater\": KNeighborsClassifier(),\n",
    "\"params\": {\n",
    "\"n_neighbors\": [25],\n",
    "\"weights\": ['uniform'],\n",
    "\"leaf_size\": [25],\n",
    "\"p\": [1],\n",
    "}\n",
    "},\n",
    "{ \"estimater\": DecisionTreeClassifier(),\n",
    "\"params\": {\n",
    "\"criterion\": ['gini'],\n",
    "\"splitter\": ['best'],\n",
    "\"max_depth\": [None],\n",
    "\"max_features\": [None],\n",
    "\"random_state\": [42]\n",
    "}\n",
    "},\n",
    "{ \"estimater\": svm.SVC(),\n",
    "\"params\": {'C': [0.1 ], 'gamma': [1], 'kernel': ['rbf']\n",
    "}\n",
    "},\n",
    "{ \"estimater\": RandomForestClassifier(),\n",
    "\"params\": {\n",
    "\"criterion\": ['gini'],\n",
    "\"bootstrap\": [True],\n",
    "\"max_depth\": [85],\n",
    "\"max_features\": ['sqrt'],\n",
    "\"n_estimators\": [60],\n",
    "\"random_state\": [42]\n",
    "}\n",
    "}\n",
    "]\n",
    "column_names = [\"KNeighbors\"]\n",
    "entries = []\n",
    "max_acc = 0\n",
    "best_model = None\n",
    "for model in models:\n",
    "   print(model[\"estimater\"])\n",
    "# Create model\n",
    "clf = model[\"estimater\"]\n",
    "# Instantiate the grid search model\n",
    "grid_search = GridSearchCV(estimator = clf, param_grid = model[\"params\"],cv = 5)\n",
    "# Fit the model\n",
    "grid_search.fit(X_train, Y_train);\n",
    "# Make predictions on the test set compute accuracy metric\n",
    "predicted = grid_search.predict(X_test)\n",
    "acc = accuracy_score(predicted, Y_test)\n",
    "entries.append(acc)\n",
    "print(grid_search.best_params_)\n",
    "# Get the best model with the highest accuracy\n",
    "if acc > max_acc:\n",
    "  max_acc = acc\n",
    "best_model = grid_search"
   ]
  },
  {
   "cell_type": "code",
   "execution_count": 10,
   "metadata": {
    "slideshow": {
     "slide_type": "skip"
    }
   },
   "outputs": [],
   "source": [
    "print(models[0])"
   ]
  },
  {
   "cell_type": "code",
   "execution_count": 13,
   "metadata": {
    "slideshow": {
     "slide_type": "skip"
    }
   },
   "outputs": [],
   "source": [
    "import seaborn as sns\n",
    "import matplotlib.pyplot as plt\n",
    "import pandas as pd"
   ]
  },
  {
   "cell_type": "code",
   "execution_count": 12,
   "metadata": {
    "slideshow": {
     "slide_type": "skip"
    }
   },
   "outputs": [
    {
     "data": {
      "text/plain": [
       "text    0\n",
       "spam    0\n",
       "dtype: int64"
      ]
     },
     "execution_count": 12,
     "metadata": {},
     "output_type": "execute_result"
    }
   ],
   "source": [
    "plt.style.use('ggplot')\n",
    "df = pd.DataFrame({\"Estimator\": column_names, \"Accuracy\": entries})\n",
    "plt.figure(figsize=(8, 4))\n",
    "sns.barplot(x='Estimator', y='Accuracy', data=df)\n",
    "print(df)"
   ]
  },
  {
   "cell_type": "code",
   "execution_count": 14,
   "metadata": {
    "slideshow": {
     "slide_type": "skip"
    }
   },
   "outputs": [],
   "source": [
    "#Conclusion:*\n",
    "#nous utilisons la bibliothèque Python OpenCV, comme un outil qui accélère l'identification de Face, de manière agile et efficace.\n",
    "#À l'aide de cet article, le Data Scientist pourra mettre en œuvre d'autres applications de Visual Computing, telles que l'identification de l'utilisation de masques, la température corporelle, la distance sociale dans les supermarchés, l'identification d'objets, la reconnaissance faciale, le suivi d'objets en temps réel."
   ]
  },
  {
   "cell_type": "markdown",
   "metadata": {
    "slideshow": {
     "slide_type": "slide"
    }
   },
   "source": [
    "<h2 ><p class=\"fragment fade-up\" data-fragment-index=\"1\"><span class=\"presentation_title\">4. Evaluating the best face detector</span></p></h2>\n",
    "<div>\n",
    " <p class=\"fragment fade-up\" data-fragment-index=\"2\" align=\"center\" >How do you evaluate face recognition?\n",
    "You should read about True positive and True negative, false positve and negatives. With this formula of your accuracy=(TP+TN)/(Total). face recognition accuracy cab be measured according to the percentage of the detection faces per the total number of tested faces of the same persones.\n",
    "</p>\n",
    "</div>\n",
    "<div style=\"display: flex; justify-content: space-around;\"class=\"center\">\n",
    "<p class=\"fragment fade-up\" data-fragment-index=\"4\" align=\"center\" ><img src=\"./img/az.png\" width=\"350\" height=\"350\" style=\"border-radius: 10px\"></p> &nbsp;  &nbsp; &nbsp;&nbsp;<p class=\"fragment fade-up\" data-fragment-index=\"4\" align=\"center\" ></p>\n",
    "    </div>\n",
    "<div>\n"
   ]
  },
  {
   "cell_type": "code",
   "execution_count": null,
   "metadata": {
    "slideshow": {
     "slide_type": "subslide"
    }
   },
   "outputs": [],
   "source": [
    "#First, we create an evaluation function to output all the needs metrics:\n",
    "#- Make predictions using the test data to see how the best model performs by applying the evaluate_preds function.\n",
    "\n",
    "from sklearn.metrics import accuracy_score, precision_score, recall_score, f1_score\n",
    "def evaluate_preds(y_true, y_preds):\n",
    " \"\"\"\n",
    " Performs evaluation comparison on y_true labels vs. y_pred labels\n",
    " on a classification.\n",
    " \"\"\"\n",
    " accuracy = accuracy_score(y_true, y_preds)\n",
    " precision = precision_score(y_true, y_preds, average='micro')\n",
    " recall = recall_score(y_true, y_preds, average='micro')\n",
    " f1 = f1_score(y_true, y_preds, average='micro')\n",
    " metric_dict = {\"accuracy\": round(accuracy, 2),\n",
    " \"precision\": round(precision, 2),\n",
    " \"recall\": round(recall, 2),\n",
    " \"f1\": round(f1, 2)}\n",
    " \n",
    " return metric_dict"
   ]
  },
  {
   "cell_type": "code",
   "execution_count": null,
   "metadata": {
    "slideshow": {
     "slide_type": "subslide"
    }
   },
   "outputs": [],
   "source": [
    "y_preds=best_model.predict(X_test)\n",
    "dict_perf=evaluate_preds(Y_test,y_preds)\n",
    "print(dict_perf)"
   ]
  },
  {
   "cell_type": "markdown",
   "metadata": {
    "slideshow": {
     "slide_type": "slide"
    }
   },
   "source": [
    "<h2 ><p class=\"fragment fade-up\" data-fragment-index=\"1\"><span class=\"presentation_title\">5. Fiding faces in a new image</span></p></h2>\n",
    "<div>\n",
    " <p class=\"fragment fade-up\" data-fragment-index=\"2\" align=\"center\" >\n",
    "</p>\n",
    "</div>\n",
    "<div style=\"display: flex; justify-content: space-around;\"class=\"center\">\n",
    "<p class=\"fragment fade-up\" data-fragment-index=\"4\" align=\"center\" ><img src=\"./img/fac.jpg\" width=\"350\" height=\"350\" style=\"border-radius: 10px\"></p> &nbsp;  &nbsp; &nbsp;&nbsp;<p class=\"fragment fade-up\" data-fragment-index=\"4\" align=\"center\" ></p>\n",
    "    </div>\n",
    "<div>"
   ]
  },
  {
   "cell_type": "code",
   "execution_count": null,
   "metadata": {
    "slideshow": {
     "slide_type": "subslide"
    }
   },
   "outputs": [],
   "source": [
    "#We run a sliding window over a new image and evaluate each patch: Get a new test image by executing this script:\n",
    "test_image = skimage.data.astronaut()\n",
    "test_image = skimage.color.rgb2gray(test_image)\n",
    "test_image = skimage.transform.rescale(test_image, 0.5)\n",
    "test_image = test_image[:160, 40:180]\n",
    "plt.imshow(test_image, cmap='gray')\n",
    "plt.axis('off');"
   ]
  },
  {
   "cell_type": "code",
   "execution_count": null,
   "metadata": {
    "slideshow": {
     "slide_type": "subslide"
    }
   },
   "outputs": [],
   "source": [
    "#create a window that iterates that over patches  of this image and compute HOG frature for eac patch:\n",
    "def sliding_window(img, patch_size=positive_patches[0].shape, istep=2, jstep=2, scale=1.0):\n",
    "    Ni, Nj = (int(scale * s) for s in patch_size)\n",
    "    for i in range(0, img.shape[0] - Ni, istep):\n",
    "        for j in range(0, img.shape[1] - Ni, jstep):\n",
    "            patch = img[i:i + Ni, j:j + Nj]\n",
    "            if scale != 1:\n",
    "               patch = transform.resize(patch, patch_size)\n",
    "            yield (i, j), patch\n",
    "indices, patches = zip(*sliding_window(test_image))\n",
    "patches_hog = np.array([feature.hog(patch) for patch in patches])"
   ]
  },
  {
   "cell_type": "code",
   "execution_count": null,
   "metadata": {
    "slideshow": {
     "slide_type": "subslide"
    }
   },
   "outputs": [],
   "source": [
    "# Use our face detector to evaluate whether each patch contains a face. What do you notice?\n",
    "labels =best_model.predict(patches_hog)\n",
    "labels.sum()"
   ]
  },
  {
   "cell_type": "code",
   "execution_count": null,
   "metadata": {
    "slideshow": {
     "slide_type": "subslide"
    }
   },
   "outputs": [],
   "source": [
    "#Draw face detected patches as rectangles:\n",
    "fig, ax = plt.subplots()\n",
    "ax.imshow(test_image, cmap='gray')\n",
    "ax.axis('off')\n",
    "Ni, Nj = positive_patches[0].shape\n",
    "indices = np.array(indices)\n",
    "for i, j in indices[labels == 1]:\n",
    "  ax.add_patch(plt.Rectangle((j, i), Nj, Ni, edgecolor='red',\n",
    "                             alpha=0.3, lw=2, facecolor='none'))"
   ]
  },
  {
   "cell_type": "markdown",
   "metadata": {
    "slideshow": {
     "slide_type": "slide"
    }
   },
   "source": [
    "<h2 ><p class=\"fragment fade-up\" data-fragment-index=\"1\"><span class=\"presentation_title\">6.Model Deployment with Python and Streamlit </span></p></h2>\n",
    "<div>\n",
    " <p class=\"fragment fade-up\" data-fragment-index=\"2\" align=\"center\" >we can deploy and perform interactive machine learning models using Streamlit. Installation: pip install streamlit (Make sure you have Python installed in your system) Create a python file called “app.py” and type the following code in it to get hands-on experience on Streamlit.</p>\n",
    "</div>\n",
    "<div style=\"display: flex; justify-content: space-around;\"class=\"center\">\n",
    "<p class=\"fragment fade-up\" data-fragment-index=\"4\" align=\"center\" ><img src=\"./img/ma.jpg\" width=\"350\" height=\"350\" style=\"border-radius: 10px\"></p> &nbsp;  &nbsp; &nbsp;&nbsp;<p class=\"fragment fade-up\" data-fragment-index=\"4\" align=\"center\" ></p>\n",
    "    </div>\n",
    "<div>"
   ]
  },
  {
   "cell_type": "code",
   "execution_count": null,
   "metadata": {},
   "outputs": [],
   "source": [
    "# Model Deployment with Python and Streamlit Finally, deploy the face detector model With Python and Streamlit "
   ]
  },
  {
   "cell_type": "markdown",
   "metadata": {
    "slideshow": {
     "slide_type": "slide"
    }
   },
   "source": [
    "<h2 ><p class=\"fragment fade-up\" data-fragment-index=\"1\"><span class=\"presentation_title\">7 Conclusion </span></p></h2>\n",
    "<p class=\"fragment fade-in-then-out\" data-fragment-index=\"2\" align=\"center\" >We have been able to detect who the image represents in the photo using a simple approach by detecting, manipulating and identifying the contours of the face.\n",
    "This clearly shows how machine learning has rapidly taken charge in the world of artificial intelligence.   <span class=\"bkg_contrastR\">missing data</span>\n",
    "</p>\n",
    "<p class=\"fragment fade-up\" data-fragment-index=\"4\" align=\"center\" ><img src=\"./img/hin.jpg\" width=\"350\" height=\"350\" style=\"border-radius: 10px\"></p> &nbsp;  &nbsp; &nbsp;&nbsp;<p class=\"fragment fade-up\" data-fragment-index=\"4\" align=\"center\" ></p>"
   ]
  },
  {
   "cell_type": "markdown",
   "metadata": {
    "slideshow": {
     "slide_type": "slide"
    },
    "variables": {
     "email_html": "<a href='mailto:your@email.com'>your@email.com</a>",
     "footer_html": "<div class='footer'>Name of Event | Title goes here | 26-02-2021</div>",
     "name": "Your Name MSc.",
     "twitter_html": "<a href='https://twitter.com/twitter'>@twitter</a>",
     "url_html": "<a href='www.your-website.com'>www.your-website.com</a>"
    }
   },
   "source": [
    "<div class=\"uu_title_container\">\n",
    "    <div class='column'>\n",
    "        <br><br><br>\n",
    "        <h2><span class=\"presentation_title\">Thank You</span></h2>\n",
    "        <br><br>\n",
    "        <p><b>Contact:</b><br><br>Mail:&emsp;&emsp;&nbsp;<a href='mailto:hindraissi@gmail.com'>hindraiss@gmail.com</a><br><br>URL:&emsp;&emsp;<a href='https://github.com/hindraiss'>https://github.com/hindraiss</a></p>\n",
    "    </div>  \n",
    "    <div class='column' id='frame'>\n",
    "        <br><br><br>\n",
    "        <figure><center><img id=\"undraw_col_img\" src=\"./img/hind.webp\"></center></figure>\n",
    "    </div>\n",
    "</div>\n"
   ]
  }
 ],
 "metadata": {
  "celltoolbar": "Diaporama",
  "kernelspec": {
   "display_name": "Python 3 (ipykernel)",
   "language": "python",
   "name": "python3"
  },
  "language_info": {
   "codemirror_mode": {
    "name": "ipython",
    "version": 3
   },
   "file_extension": ".py",
   "mimetype": "text/x-python",
   "name": "python",
   "nbconvert_exporter": "python",
   "pygments_lexer": "ipython3",
   "version": "3.9.12"
  },
  "livereveal": {
   "autolaunch": true
  },
  "notify_time": "5",
  "rise": {
   "center": true
  },
  "toc": {
   "base_numbering": 1,
   "nav_menu": {},
   "number_sections": true,
   "sideBar": true,
   "skip_h1_title": true,
   "title_cell": "Table of Contents",
   "title_sidebar": "Contents",
   "toc_cell": false,
   "toc_position": {},
   "toc_section_display": true,
   "toc_window_display": false
  },
  "varInspector": {
   "cols": {
    "lenName": 16,
    "lenType": 16,
    "lenVar": 40
   },
   "kernels_config": {
    "python": {
     "delete_cmd_postfix": "",
     "delete_cmd_prefix": "del ",
     "library": "var_list.py",
     "varRefreshCmd": "print(var_dic_list())"
    },
    "r": {
     "delete_cmd_postfix": ") ",
     "delete_cmd_prefix": "rm(",
     "library": "var_list.r",
     "varRefreshCmd": "cat(var_dic_list()) "
    }
   },
   "types_to_exclude": [
    "module",
    "function",
    "builtin_function_or_method",
    "instance",
    "_Feature"
   ],
   "window_display": false
  }
 },
 "nbformat": 4,
 "nbformat_minor": 2
}
